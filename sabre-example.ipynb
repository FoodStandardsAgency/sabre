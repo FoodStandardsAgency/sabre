{
 "metadata": {
  "language_info": {
   "codemirror_mode": {
    "name": "ipython",
    "version": 3
   },
   "file_extension": ".py",
   "mimetype": "text/x-python",
   "name": "python",
   "nbconvert_exporter": "python",
   "pygments_lexer": "ipython3",
   "version": 3
  },
  "orig_nbformat": 2
 },
 "nbformat": 4,
 "nbformat_minor": 2,
 "cells": [
  {
   "cell_type": "code",
   "execution_count": null,
   "metadata": {},
   "outputs": [],
   "source": [
    "library(sabre)\n",
    "\n",
    "melt_rows(\n",
    "  businesses[4:8, 3:4],\n",
    "  \"trading_name\",\n",
    "  dividers = c(\"\\\\|\", \" trading as \", \"t/a\", \"\\\\/\")\n",
    "  ) %>%\n",
    "  dplyr::mutate_at(., \"trading_name\", ~replace_in_string(., \"@\", \"\")) %>%\n",
    "  dplyr::mutate_at(., \"trading_name\", strip_business_legal_entity_type) %>%\n",
    "  dplyr::mutate_at(., \"trading_name\", stringr::str_squish)"
   ]
  }
 ]
}