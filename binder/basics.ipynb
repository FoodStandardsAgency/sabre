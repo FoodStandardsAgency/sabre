{
 "cells": [
  {
   "cell_type": "code",
   "execution_count": 1,
   "metadata": {},
   "outputs": [
    {
     "data": {
      "text/html": [
       "<table>\n",
       "<caption>A tibble: 9 × 2</caption>\n",
       "<thead>\n",
       "\t<tr><th scope=col>postcode</th><th scope=col>trading_name</th></tr>\n",
       "\t<tr><th scope=col>&lt;chr&gt;</th><th scope=col>&lt;chr&gt;</th></tr>\n",
       "</thead>\n",
       "<tbody>\n",
       "\t<tr><td>B42 1AB </td><td>Cosy café The horse and hound</td></tr>\n",
       "\t<tr><td>B25     </td><td>Food Zone                    </td></tr>\n",
       "\t<tr><td>B25     </td><td>ReFood                       </td></tr>\n",
       "\t<tr><td>G12 0ZS </td><td>Hocus Pocus                  </td></tr>\n",
       "\t<tr><td>G12 0ZS </td><td>Van Leer                     </td></tr>\n",
       "\t<tr><td>SE16 1BE</td><td>Media Luna Bakery            </td></tr>\n",
       "\t<tr><td>SE16 1BE</td><td>Media Luna                   </td></tr>\n",
       "\t<tr><td>EC2M 1AA</td><td>                             </td></tr>\n",
       "\t<tr><td>EC2M 1AA</td><td>Pharmacy Doherty             </td></tr>\n",
       "</tbody>\n",
       "</table>\n"
      ],
      "text/latex": [
       "A tibble: 9 × 2\n",
       "\\begin{tabular}{ll}\n",
       " postcode & trading\\_name\\\\\n",
       " <chr> & <chr>\\\\\n",
       "\\hline\n",
       "\t B42 1AB  & Cosy café The horse and hound\\\\\n",
       "\t B25      & Food Zone                    \\\\\n",
       "\t B25      & ReFood                       \\\\\n",
       "\t G12 0ZS  & Hocus Pocus                  \\\\\n",
       "\t G12 0ZS  & Van Leer                     \\\\\n",
       "\t SE16 1BE & Media Luna Bakery            \\\\\n",
       "\t SE16 1BE & Media Luna                   \\\\\n",
       "\t EC2M 1AA &                              \\\\\n",
       "\t EC2M 1AA & Pharmacy Doherty             \\\\\n",
       "\\end{tabular}\n"
      ],
      "text/markdown": [
       "\n",
       "A tibble: 9 × 2\n",
       "\n",
       "| postcode &lt;chr&gt; | trading_name &lt;chr&gt; |\n",
       "|---|---|\n",
       "| B42 1AB  | Cosy café The horse and hound |\n",
       "| B25      | Food Zone                     |\n",
       "| B25      | ReFood                        |\n",
       "| G12 0ZS  | Hocus Pocus                   |\n",
       "| G12 0ZS  | Van Leer                      |\n",
       "| SE16 1BE | Media Luna Bakery             |\n",
       "| SE16 1BE | Media Luna                    |\n",
       "| EC2M 1AA | <!----> |\n",
       "| EC2M 1AA | Pharmacy Doherty              |\n",
       "\n"
      ],
      "text/plain": [
       "  postcode trading_name                 \n",
       "1 B42 1AB  Cosy café The horse and hound\n",
       "2 B25      Food Zone                    \n",
       "3 B25      ReFood                       \n",
       "4 G12 0ZS  Hocus Pocus                  \n",
       "5 G12 0ZS  Van Leer                     \n",
       "6 SE16 1BE Media Luna Bakery            \n",
       "7 SE16 1BE Media Luna                   \n",
       "8 EC2M 1AA                              \n",
       "9 EC2M 1AA Pharmacy Doherty             "
      ]
     },
     "metadata": {},
     "output_type": "display_data"
    }
   ],
   "source": [
    "library(sabre)\n",
    "\n",
    "melt_rows(\n",
    "  businesses[4:8, 3:4],\n",
    "  \"trading_name\",\n",
    "  dividers = c(\"\\\\|\", \" trading as \", \"t/a\", \"\\\\/\")\n",
    "  ) %>%\n",
    "  dplyr::mutate_at(., \"trading_name\", ~replace_in_string(., \"@\", \"\")) %>%\n",
    "  dplyr::mutate_at(., \"trading_name\", strip_business_legal_entity_type) %>%\n",
    "  dplyr::mutate_at(., \"trading_name\", stringr::str_squish)"
   ]
  },
  {
   "cell_type": "code",
   "execution_count": 2,
   "metadata": {},
   "outputs": [
    {
     "data": {
      "text/html": [
       "<table>\n",
       "<caption>A tibble: 8 × 2</caption>\n",
       "<thead>\n",
       "\t<tr><th scope=col>address</th><th scope=col>postcode</th></tr>\n",
       "\t<tr><th scope=col>&lt;chr&gt;</th><th scope=col>&lt;chr&gt;</th></tr>\n",
       "</thead>\n",
       "<tbody>\n",
       "\t<tr><td>KINKER HOUSE, GUILD STREET, MIDDLESBROUGH,REDCAR AND CLEVELAND, TS4 6UD                                                                                                     </td><td>TS4 6UD </td></tr>\n",
       "\t<tr><td>FACTORY HOUSE 202-205, BOROUHBRIDGE ROAD, MIDDLESBROUGH, MIDDLESBROUGH, TS1 5QW                                                                                             </td><td>TS1 5QW </td></tr>\n",
       "\t<tr><td>Dockers Road, Grangetown, TS3 3UD                                                                                                                                           </td><td>TS3 3UD </td></tr>\n",
       "\t<tr><td>1, ONE STOP SHOPPING PARK, ROMAI ROAD, BIRMINGHAM,  BIRMINGHAM, B2 9DY|UNITS 1 AND 34, ONE STOP RETAIL CENTRE 2, WALLSTREET ROAD, PERRY BARR, BIRMINGHAM, BIRMINGHAM, B2 9DY</td><td>B42 1AB </td></tr>\n",
       "\t<tr><td>23 Abbess Grove,BIRMINGHAM,  BIRMINGHAM,B25 8YB                                                                                                                             </td><td>B25     </td></tr>\n",
       "\t<tr><td>Ninth Street 39 , Glasgow G12 0ZS                                                                                                                                           </td><td>G12 0ZS </td></tr>\n",
       "\t<tr><td>66 Guild St, London, SE16 1BE                                                                                                                                               </td><td>SE16 1BE</td></tr>\n",
       "\t<tr><td>54 Cunnery Rd, London EC2M 1AA                                                                                                                                              </td><td>EC2M 1AA</td></tr>\n",
       "</tbody>\n",
       "</table>\n"
      ],
      "text/latex": [
       "A tibble: 8 × 2\n",
       "\\begin{tabular}{ll}\n",
       " address & postcode\\\\\n",
       " <chr> & <chr>\\\\\n",
       "\\hline\n",
       "\t KINKER HOUSE, GUILD STREET, MIDDLESBROUGH,REDCAR AND CLEVELAND, TS4 6UD                                                                                                      & TS4 6UD \\\\\n",
       "\t FACTORY HOUSE 202-205, BOROUHBRIDGE ROAD, MIDDLESBROUGH, MIDDLESBROUGH, TS1 5QW                                                                                              & TS1 5QW \\\\\n",
       "\t Dockers Road, Grangetown, TS3 3UD                                                                                                                                            & TS3 3UD \\\\\n",
       "\t 1, ONE STOP SHOPPING PARK, ROMAI ROAD, BIRMINGHAM,  BIRMINGHAM, B2 9DY\\textbar{}UNITS 1 AND 34, ONE STOP RETAIL CENTRE 2, WALLSTREET ROAD, PERRY BARR, BIRMINGHAM, BIRMINGHAM, B2 9DY & B42 1AB \\\\\n",
       "\t 23 Abbess Grove,BIRMINGHAM,  BIRMINGHAM,B25 8YB                                                                                                                              & B25     \\\\\n",
       "\t Ninth Street 39 , Glasgow G12 0ZS                                                                                                                                            & G12 0ZS \\\\\n",
       "\t 66 Guild St, London, SE16 1BE                                                                                                                                                & SE16 1BE\\\\\n",
       "\t 54 Cunnery Rd, London EC2M 1AA                                                                                                                                               & EC2M 1AA\\\\\n",
       "\\end{tabular}\n"
      ],
      "text/markdown": [
       "\n",
       "A tibble: 8 × 2\n",
       "\n",
       "| address &lt;chr&gt; | postcode &lt;chr&gt; |\n",
       "|---|---|\n",
       "| KINKER HOUSE, GUILD STREET, MIDDLESBROUGH,REDCAR AND CLEVELAND, TS4 6UD                                                                                                      | TS4 6UD  |\n",
       "| FACTORY HOUSE 202-205, BOROUHBRIDGE ROAD, MIDDLESBROUGH, MIDDLESBROUGH, TS1 5QW                                                                                              | TS1 5QW  |\n",
       "| Dockers Road, Grangetown, TS3 3UD                                                                                                                                            | TS3 3UD  |\n",
       "| 1, ONE STOP SHOPPING PARK, ROMAI ROAD, BIRMINGHAM,  BIRMINGHAM, B2 9DY|UNITS 1 AND 34, ONE STOP RETAIL CENTRE 2, WALLSTREET ROAD, PERRY BARR, BIRMINGHAM, BIRMINGHAM, B2 9DY | B42 1AB  |\n",
       "| 23 Abbess Grove,BIRMINGHAM,  BIRMINGHAM,B25 8YB                                                                                                                              | B25      |\n",
       "| Ninth Street 39 , Glasgow G12 0ZS                                                                                                                                            | G12 0ZS  |\n",
       "| 66 Guild St, London, SE16 1BE                                                                                                                                                | SE16 1BE |\n",
       "| 54 Cunnery Rd, London EC2M 1AA                                                                                                                                               | EC2M 1AA |\n",
       "\n"
      ],
      "text/plain": [
       "  address                                                                                                                                                                     \n",
       "1 KINKER HOUSE, GUILD STREET, MIDDLESBROUGH,REDCAR AND CLEVELAND, TS4 6UD                                                                                                     \n",
       "2 FACTORY HOUSE 202-205, BOROUHBRIDGE ROAD, MIDDLESBROUGH, MIDDLESBROUGH, TS1 5QW                                                                                             \n",
       "3 Dockers Road, Grangetown, TS3 3UD                                                                                                                                           \n",
       "4 1, ONE STOP SHOPPING PARK, ROMAI ROAD, BIRMINGHAM,  BIRMINGHAM, B2 9DY|UNITS 1 AND 34, ONE STOP RETAIL CENTRE 2, WALLSTREET ROAD, PERRY BARR, BIRMINGHAM, BIRMINGHAM, B2 9DY\n",
       "5 23 Abbess Grove,BIRMINGHAM,  BIRMINGHAM,B25 8YB                                                                                                                             \n",
       "6 Ninth Street 39 , Glasgow G12 0ZS                                                                                                                                           \n",
       "7 66 Guild St, London, SE16 1BE                                                                                                                                               \n",
       "8 54 Cunnery Rd, London EC2M 1AA                                                                                                                                              \n",
       "  postcode\n",
       "1 TS4 6UD \n",
       "2 TS1 5QW \n",
       "3 TS3 3UD \n",
       "4 B42 1AB \n",
       "5 B25     \n",
       "6 G12 0ZS \n",
       "7 SE16 1BE\n",
       "8 EC2M 1AA"
      ]
     },
     "metadata": {},
     "output_type": "display_data"
    }
   ],
   "source": [
    "businesses[1:8, 2:3]"
   ]
  },
  {
   "cell_type": "code",
   "execution_count": 3,
   "metadata": {},
   "outputs": [
    {
     "data": {
      "text/html": [
       "<table>\n",
       "<caption>A tibble: 8 × 2</caption>\n",
       "<thead>\n",
       "\t<tr><th scope=col>address</th><th scope=col>postcode</th></tr>\n",
       "\t<tr><th scope=col>&lt;chr&gt;</th><th scope=col>&lt;chr&gt;</th></tr>\n",
       "</thead>\n",
       "<tbody>\n",
       "\t<tr><td>kinker house, guild street, middlesbrough,redcar and cleveland,                                                                                                            </td><td>ts4 6ud </td></tr>\n",
       "\t<tr><td>factory house 202-205, borouhbridge road, middlesbrough, middlesbrough,                                                                                                    </td><td>ts1 5qw </td></tr>\n",
       "\t<tr><td>dockers road, grangetown,                                                                                                                                                  </td><td>ts3 3ud </td></tr>\n",
       "\t<tr><td>1, one stop shopping park, romai road, birmingham, birmingham, b2 9dy|units 1 and 34, one stop retail centre 2, wallstreet road, perry barr, birmingham, birmingham, b2 9dy</td><td>b42 1ab </td></tr>\n",
       "\t<tr><td>23 abbess grove,birmingham, birmingham, 8yb                                                                                                                                </td><td>b25     </td></tr>\n",
       "\t<tr><td>ninth street 39 , glasgow                                                                                                                                                  </td><td>g12 0zs </td></tr>\n",
       "\t<tr><td>66 guild st, london,                                                                                                                                                       </td><td>se16 1be</td></tr>\n",
       "\t<tr><td>54 cunnery rd, london                                                                                                                                                      </td><td>ec2m 1aa</td></tr>\n",
       "</tbody>\n",
       "</table>\n"
      ],
      "text/latex": [
       "A tibble: 8 × 2\n",
       "\\begin{tabular}{ll}\n",
       " address & postcode\\\\\n",
       " <chr> & <chr>\\\\\n",
       "\\hline\n",
       "\t kinker house, guild street, middlesbrough,redcar and cleveland,                                                                                                             & ts4 6ud \\\\\n",
       "\t factory house 202-205, borouhbridge road, middlesbrough, middlesbrough,                                                                                                     & ts1 5qw \\\\\n",
       "\t dockers road, grangetown,                                                                                                                                                   & ts3 3ud \\\\\n",
       "\t 1, one stop shopping park, romai road, birmingham, birmingham, b2 9dy\\textbar{}units 1 and 34, one stop retail centre 2, wallstreet road, perry barr, birmingham, birmingham, b2 9dy & b42 1ab \\\\\n",
       "\t 23 abbess grove,birmingham, birmingham, 8yb                                                                                                                                 & b25     \\\\\n",
       "\t ninth street 39 , glasgow                                                                                                                                                   & g12 0zs \\\\\n",
       "\t 66 guild st, london,                                                                                                                                                        & se16 1be\\\\\n",
       "\t 54 cunnery rd, london                                                                                                                                                       & ec2m 1aa\\\\\n",
       "\\end{tabular}\n"
      ],
      "text/markdown": [
       "\n",
       "A tibble: 8 × 2\n",
       "\n",
       "| address &lt;chr&gt; | postcode &lt;chr&gt; |\n",
       "|---|---|\n",
       "| kinker house, guild street, middlesbrough,redcar and cleveland,                                                                                                             | ts4 6ud  |\n",
       "| factory house 202-205, borouhbridge road, middlesbrough, middlesbrough,                                                                                                     | ts1 5qw  |\n",
       "| dockers road, grangetown,                                                                                                                                                   | ts3 3ud  |\n",
       "| 1, one stop shopping park, romai road, birmingham, birmingham, b2 9dy|units 1 and 34, one stop retail centre 2, wallstreet road, perry barr, birmingham, birmingham, b2 9dy | b42 1ab  |\n",
       "| 23 abbess grove,birmingham, birmingham, 8yb                                                                                                                                 | b25      |\n",
       "| ninth street 39 , glasgow                                                                                                                                                   | g12 0zs  |\n",
       "| 66 guild st, london,                                                                                                                                                        | se16 1be |\n",
       "| 54 cunnery rd, london                                                                                                                                                       | ec2m 1aa |\n",
       "\n"
      ],
      "text/plain": [
       "  address                                                                                                                                                                    \n",
       "1 kinker house, guild street, middlesbrough,redcar and cleveland,                                                                                                            \n",
       "2 factory house 202-205, borouhbridge road, middlesbrough, middlesbrough,                                                                                                    \n",
       "3 dockers road, grangetown,                                                                                                                                                  \n",
       "4 1, one stop shopping park, romai road, birmingham, birmingham, b2 9dy|units 1 and 34, one stop retail centre 2, wallstreet road, perry barr, birmingham, birmingham, b2 9dy\n",
       "5 23 abbess grove,birmingham, birmingham, 8yb                                                                                                                                \n",
       "6 ninth street 39 , glasgow                                                                                                                                                  \n",
       "7 66 guild st, london,                                                                                                                                                       \n",
       "8 54 cunnery rd, london                                                                                                                                                      \n",
       "  postcode\n",
       "1 ts4 6ud \n",
       "2 ts1 5qw \n",
       "3 ts3 3ud \n",
       "4 b42 1ab \n",
       "5 b25     \n",
       "6 g12 0zs \n",
       "7 se16 1be\n",
       "8 ec2m 1aa"
      ]
     },
     "metadata": {},
     "output_type": "display_data"
    }
   ],
   "source": [
    "col_diff(businesses[1:8, 2:3],\n",
    "         address,\n",
    "         postcode,\n",
    "         how = c('lowercase', 'squish'))"
   ]
  },
  {
   "cell_type": "code",
   "execution_count": null,
   "metadata": {},
   "outputs": [],
   "source": []
  }
 ],
 "metadata": {
  "kernelspec": {
   "display_name": "R",
   "language": "R",
   "name": "ir"
  },
  "language_info": {
   "codemirror_mode": "r",
   "file_extension": ".r",
   "mimetype": "text/x-r-source",
   "name": "R",
   "pygments_lexer": "r",
   "version": "4.0.3"
  }
 },
 "nbformat": 4,
 "nbformat_minor": 4
}
