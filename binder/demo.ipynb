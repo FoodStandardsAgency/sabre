{
 "cells": [
  {
   "cell_type": "code",
   "execution_count": null,
   "metadata": {},
   "outputs": [],
   "source": [
    "library(sabre);\n",
    "library(dplyr);"
   ]
  },
  {
   "cell_type": "markdown",
   "metadata": {},
   "source": [
    "# About\n",
    "\n",
    "1. Library as a set of wrappers around:\n",
    "    - stringr\n",
    "    - stringi\n",
    "2. Regex logic, pattern detection, tokenization and fuzzy matching in development\n",
    "3. Uses (as much as possible) the tidyr style\n",
    "5. purrr functional style of programming prefered when possible\n",
    "6. Some enhancement in RCpp for speed and large datasets"
   ]
  },
  {
   "cell_type": "markdown",
   "metadata": {},
   "source": [
    "# Basic Operations"
   ]
  },
  {
   "cell_type": "code",
   "execution_count": null,
   "metadata": {},
   "outputs": [],
   "source": [
    "# Strip business legal entity type from strings\n",
    "strip_business_legal_entity_type(\"Farmer Box Plc.\")\n",
    "strip_business_legal_entity_type(\"Farmer Box Incorporated\")"
   ]
  },
  {
   "cell_type": "code",
   "execution_count": null,
   "metadata": {},
   "outputs": [],
   "source": [
    "strip_business_legal_entity_type(\"Farmer Box Plc.\")\n",
    "strip_business_legal_entity_type(\"Farmer Box Incorporated\")"
   ]
  },
  {
   "cell_type": "code",
   "execution_count": null,
   "metadata": {},
   "outputs": [],
   "source": [
    "# Strip honorific titles from a name\n",
    "# 1. handles most general cases (Mr, Mrs, Dr., ...)\n",
    "# 2. avoid catching similar terms\n",
    "strip_honorific_title(\"Dr. Jekyll and Mr Hyde\")\n",
    "strip_honorific_title(\"Mr Holmes missed his binoculars\")"
   ]
  },
  {
   "cell_type": "code",
   "execution_count": null,
   "metadata": {},
   "outputs": [],
   "source": [
    "# Given a string with multiple postcodes and addresses,\n",
    "# extract postcodes and addresses\n",
    "fox_string <-\n",
    "  \"The quick brown fox's postcode is N17 0RN and his house number is 6. The family den extends under number 22A-23b Fox street, which marks the West end of E3. If you cannot reach him, try his relatives at 7Caledonian Road, or 19C, 20A&20B EC30RN but do not forget the separating white space after the district's code E3.\"\n",
    "\n",
    "find_postcodes_in_string(fox_string)"
   ]
  },
  {
   "cell_type": "code",
   "execution_count": null,
   "metadata": {},
   "outputs": [],
   "source": [
    "find_buildings_numbers(fox_string)"
   ]
  },
  {
   "cell_type": "code",
   "execution_count": null,
   "metadata": {},
   "outputs": [],
   "source": [
    "# Reformat postcodes\n",
    "format_postcode(\"EC3R0RN\")\n",
    "format_postcode(\"N17RN  \")"
   ]
  },
  {
   "cell_type": "code",
   "execution_count": null,
   "metadata": {},
   "outputs": [],
   "source": [
    "# Given an unclean dataset of business records:\n",
    "# - address\n",
    "# - postcode\n",
    "# - trading name\n",
    "businesses"
   ]
  },
  {
   "cell_type": "code",
   "execution_count": null,
   "metadata": {},
   "outputs": [],
   "source": [
    "# Standardize strings in a dataset\n",
    "standardize_replacements <- list(\n",
    "  from = c(\",\", \"&\"),\n",
    "  to = c(\" \", \" and \")\n",
    ")\n",
    "standardize_strings(businesses, colnames(businesses), replacements = standardize_replacements)"
   ]
  },
  {
   "cell_type": "markdown",
   "metadata": {},
   "source": [
    "# Data Cleaning"
   ]
  },
  {
   "cell_type": "code",
   "execution_count": null,
   "metadata": {},
   "outputs": [],
   "source": [
    "# Melt rows (= separate nested records) over several lines\n",
    "# by choosing separators\n",
    "businesses[4:8, c(\"postcode\", \"trading_name\")]\n",
    "\n",
    "melt_rows(\n",
    "  businesses[4:8, 3:4],\n",
    "  \"trading_name\",\n",
    "  dividers = c(\"\\\\|\", \" trading as \", \"(?<!^)t/a(?<!$)\", \"@\")\n",
    ")"
   ]
  },
  {
   "cell_type": "code",
   "execution_count": null,
   "metadata": {},
   "outputs": [],
   "source": [
    "# Chain operations\n",
    "# NOTE the order of operations is important and up to the user\n",
    "# examples of orders in our cleaning pipelines.\n",
    "melt_rows(\n",
    "  businesses[4:8, 3:4],\n",
    "  \"trading_name\",\n",
    "  dividers = c(\"\\\\|\", \" trading as \", \"(?<!^)t/a(?<!$)\", \"@\")\n",
    ") %>%\n",
    "  dplyr::mutate_at(., \"trading_name\", ~ replace_in_string(., \"t/a\", \"\")) %>%\n",
    "  dplyr::mutate_at(., \"trading_name\", strip_business_legal_entity_type) %>%\n",
    "  dplyr::mutate_at(., \"trading_name\", stringr::str_squish)"
   ]
  },
  {
   "cell_type": "code",
   "execution_count": null,
   "metadata": {},
   "outputs": [],
   "source": [
    "# Remove redundant information between columns\n",
    "# multiple common operations in development (on token and on fuzzy match)\n",
    "\n",
    "# Exact match only, case sensitive\n",
    "col_diff(businesses[1:8, 2:3],\n",
    "  address,\n",
    "  postcode,\n",
    "  how = c(\"exact\")\n",
    ")"
   ]
  },
  {
   "cell_type": "code",
   "execution_count": null,
   "metadata": {},
   "outputs": [],
   "source": [
    "# Will perform diff after lowercase and squish\n",
    "col_diff(businesses[1:8, 2:3],\n",
    "  address,\n",
    "  postcode,\n",
    "  how = c(\"lowercase\", \"squish\")\n",
    ")"
   ]
  },
  {
   "cell_type": "code",
   "execution_count": null,
   "metadata": {},
   "outputs": [],
   "source": [
    "# Gapfilling of postcodes using postcode and address columns\n",
    "postcode <-\n",
    "  c(\n",
    "    \"EC2A 3JX\",\n",
    "    \"\",\n",
    "    \"not a postcode\",\n",
    "    \"wc2h 9ja\"\n",
    "  )\n",
    "\n",
    "address <-\n",
    "  c(\n",
    "    \"EC3A 3JX, 29 Churchyard Road EC2A 3JX\",\n",
    "    \"30 Church Street N16 3PT\",\n",
    "    \"29 Churchyard Road SE1 3PT\",\n",
    "    \"Prof Holmes c/o Enola 25 turmoil road\"\n",
    "  )\n",
    "\n",
    "gapfill_postcodes(postcode, address)"
   ]
  },
  {
   "cell_type": "code",
   "execution_count": null,
   "metadata": {},
   "outputs": [],
   "source": [
    "# Deduplicate, squish and change sep for nested records\n",
    "nested_record <- \"111|111|222|222|333|333\"\n",
    "parse_nested_records(nested_record, \"|\", \",\")"
   ]
  },
  {
   "cell_type": "markdown",
   "metadata": {},
   "source": [
    "# Example of a Cleaning Workflow"
   ]
  },
  {
   "cell_type": "code",
   "execution_count": null,
   "metadata": {},
   "outputs": [],
   "source": [
    "standardize_replacements <- list(\n",
    "  from = c(\",\", \"&\"),\n",
    "  to = c(\" \", \" and \")\n",
    ")\n",
    "\n",
    "businesses %>%\n",
    "  standardize_strings(\n",
    "    colnames(businesses), replacements = standardize_replacements\n",
    "  ) %>%\n",
    "  mutate(\n",
    "    postcode = gapfill_postcodes(postcode, address)\n",
    "  ) %>%\n",
    "  mutate_at(\n",
    "    vars(postcode, address),\n",
    "    ~ tolower(.x)\n",
    "  ) %>%\n",
    "  melt_rows(\n",
    "    \"trading_name\",\n",
    "    dividers = c(\"\\\\|\", \" trading as \", \"(?<!^)t/a(?<!$)\", \"@\")\n",
    "  ) %>%\n",
    "  mutate_at(\"trading_name\", ~ replace_in_string(., \"t/a\", \"\")) %>%\n",
    "  mutate_at(\"trading_name\", strip_business_legal_entity_type) %>%\n",
    "  mutate_at(\"trading_name\", stringr::str_squish) %>%\n",
    "  melt_rows(\n",
    "    \"address\",\n",
    "    dividers = c(\"\\\\|\")\n",
    "  ) %>%\n",
    "  col_diff(\n",
    "    address, postcode, how = c(\"lowercase\", \"squish\")\n",
    "  )"
   ]
  },
  {
   "cell_type": "markdown",
   "metadata": {},
   "source": [
    "# ... ready for fuzzy matching"
   ]
  }
 ],
 "metadata": {
  "kernelspec": {
   "display_name": "R",
   "language": "R",
   "name": "ir"
  },
  "language_info": {
   "codemirror_mode": "r",
   "file_extension": ".r",
   "mimetype": "text/x-r-source",
   "name": "R",
   "pygments_lexer": "r",
   "version": "3.6.3"
  }
 },
 "nbformat": 4,
 "nbformat_minor": 4
}
